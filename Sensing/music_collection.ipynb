{
 "cells": [
  {
   "cell_type": "markdown",
   "metadata": {},
   "source": [
    "# Spotify Music Data Collection"
   ]
  },
  {
   "cell_type": "code",
   "execution_count": null,
   "metadata": {
    "collapsed": false,
    "scrolled": true
   },
   "outputs": [],
   "source": [
    "import spotipy\n",
    "import spotipy.util as util\n",
    "from requests import get\n",
    "from datetime import datetime\n",
    "import os\n",
    "import csv\n",
    "from apscheduler.schedulers.blocking import BlockingScheduler\n",
    "\n",
    "def job_function():\n",
    "    def Spotify_API(username, scope, client_id, client_secret, redirect_uri):\n",
    "        try:\n",
    "            token = util.prompt_for_user_token(\n",
    "                    username=username,\n",
    "                    scope=scope,\n",
    "                    client_id=client_id,\n",
    "                    client_secret=client_secret,\n",
    "                    redirect_uri=redirect_uri\n",
    "                    )\n",
    "        except:\n",
    "            os.remove(f\".cache-{username}\")\n",
    "            token = util.prompt_for_user_token(\n",
    "                    username=username,\n",
    "                    scope=scope,\n",
    "                    client_id=client_id,\n",
    "                    client_secret=client_secret,\n",
    "                    redirect_uri=redirect_uri\n",
    "                    )\n",
    "\n",
    "        # Create spotify object with authorisation\n",
    "        spotifyobj = spotipy.Spotify(auth=token)\n",
    "\n",
    "        # Get current playing track\n",
    "        currenttrack = spotifyobj.current_user_playing_track()\n",
    "\n",
    "        # Connvert UNIX time stamp to YMDHMS\n",
    "        time = currenttrack['timestamp']/1E3\n",
    "        timedate = datetime.fromtimestamp(int(time)).strftime('%Y-%m-%d %H:%M:%S')\n",
    "        \n",
    "        # Track features\n",
    "        trackplaying = currenttrack['is_playing'] #True/False track is playing\n",
    "        trackid = currenttrack['item']['uri'] #Spotify track ID\n",
    "        name = currenttrack['item']['name'] #song name\n",
    "        artist = currenttrack['item']['album']['artists'][0]['name'] #artist name\n",
    "        artist2 = currenttrack['item']['album']['artists'][0]['uri']\n",
    "        artists = spotifyObject.artist(artist2)\n",
    "        genres = artists['genres'] #genres\n",
    "        \n",
    "        # Audio analysis\n",
    "        analysis = spotifyObject.audio_features(trackid)\n",
    "        return [timedate, analysis[0]['energy'], analysis[0]['tempo'], analysis[0]['loudness'],\n",
    "                analysis[0]['danceability'], analysis[0]['acousticness'], analysis[0]['instrumentalness']]\n",
    "\n",
    "\n",
    "    # Spoitfy Credentials (removed from script for privacy reasons)\n",
    "    username = '*****'\n",
    "    client_id = '*****'\n",
    "    client_secret = '*****'\n",
    "    redirect_uri = '*****'\n",
    "    scope = 'user-read-currently-playing'\n",
    "\n",
    "    spotifydata = Spotify_API(username, scope, client_id, client_secret, redirect_uri)\n",
    "\n",
    "\n",
    "    if spotifydata[1] == False:\n",
    "        print('No track playing')\n",
    "        \n",
    "        # Input blank data into a csv file\n",
    "        with open('music.csv', mode='a') as file:\n",
    "            writer = csv.writer(file)\n",
    "            writer.writerow()\n",
    "    else:\n",
    "        print(spotifydata)\n",
    "        \n",
    "        # Input music data into a csv file\n",
    "        with open('music.csv', mode='a') as file:\n",
    "            writer = csv.writer(file)\n",
    "            writer.writerow(spotifydata)\n",
    "\n",
    "\n",
    "# Schedule job_function to be called every 10 minutes for the week specified:\n",
    "scheduler = BlockingScheduler()\n",
    "scheduler.add_job(job_function, 'interval', minutes=10, start_date='2019-12-20 00:00:00', end_date='2019-12-28 00:00:00')\n",
    "scheduler.start()"
   ]
  },
  {
   "cell_type": "code",
   "execution_count": null,
   "metadata": {
    "collapsed": true
   },
   "outputs": [],
   "source": []
  }
 ],
 "metadata": {
  "kernelspec": {
   "display_name": "Python 3",
   "language": "python",
   "name": "python3"
  },
  "language_info": {
   "codemirror_mode": {
    "name": "ipython",
    "version": 3
   },
   "file_extension": ".py",
   "mimetype": "text/x-python",
   "name": "python",
   "nbconvert_exporter": "python",
   "pygments_lexer": "ipython3",
   "version": "3.6.0"
  }
 },
 "nbformat": 4,
 "nbformat_minor": 2
}
