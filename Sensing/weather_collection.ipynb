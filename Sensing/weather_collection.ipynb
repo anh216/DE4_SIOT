{
 "cells": [
  {
   "cell_type": "markdown",
   "metadata": {},
   "source": [
    "# Weather Data Collection"
   ]
  },
  {
   "cell_type": "code",
   "execution_count": null,
   "metadata": {
    "collapsed": false
   },
   "outputs": [],
   "source": [
    "import requests\n",
    "import json\n",
    "import csv\n",
    "import datetime\n",
    "import collections\n",
    "from collections import OrderedDict\n",
    "from apscheduler.schedulers.blocking import BlockingScheduler\n",
    "\n",
    "def job_function():\n",
    "    response = requests.get(\"http://api.openweathermap.org/data/2.5/weather?q=London,uk&units=metric&APPID=82d6b93ace543dd257fba93e019c2c62\")\n",
    "    now = datetime.datetime.now()\n",
    "    date = str(now)[:10]\n",
    "    time = str(now)[11:19]\n",
    "\n",
    "    data1 = response.content.decode('utf-8')\n",
    "    data2 = json.loads(data1, object_pairs_hook=OrderedDict)\n",
    "\n",
    "    keys = list(data2.keys())\n",
    "    vals = list(data2.values())\n",
    "\n",
    "    # print('All values:' , vals)\n",
    "\n",
    "    \n",
    "    # Extracting the temperature, pressure and humidity:\n",
    "    main = vals[3]\n",
    "    main_data = list(main.values())\n",
    "\n",
    "    \n",
    "    # Tracking the date and time of the data collected:\n",
    "    main_data.append(date)\n",
    "    main_data.append(time)\n",
    "\n",
    "    print('Main data:', main_data)\n",
    "\n",
    "    \n",
    "    # Input weather data into a csv file:\n",
    "    with open('weather.csv', mode='a') as file:\n",
    "        writer = csv.writer(file)\n",
    "        writer.writerow(main_data)\n",
    "\n",
    "        \n",
    "# Schedule job_function to be called every 10 minutes for the week specified:\n",
    "scheduler = BlockingScheduler()\n",
    "scheduler.add_job(job_function, 'interval', minutes=10, start_date='2019-12-20 00:00:00', end_date='2019-12-28 00:00:00')\n",
    "scheduler.start()"
   ]
  },
  {
   "cell_type": "code",
   "execution_count": null,
   "metadata": {
    "collapsed": true
   },
   "outputs": [],
   "source": []
  }
 ],
 "metadata": {
  "kernelspec": {
   "display_name": "Python 3",
   "language": "python",
   "name": "python3"
  },
  "language_info": {
   "codemirror_mode": {
    "name": "ipython",
    "version": 3
   },
   "file_extension": ".py",
   "mimetype": "text/x-python",
   "name": "python",
   "nbconvert_exporter": "python",
   "pygments_lexer": "ipython3",
   "version": "3.6.0"
  }
 },
 "nbformat": 4,
 "nbformat_minor": 2
}
